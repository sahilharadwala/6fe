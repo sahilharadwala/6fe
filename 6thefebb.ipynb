{
 "cells": [
  {
   "cell_type": "code",
   "execution_count": 13,
   "id": "abcc66cc-08b0-40f5-b408-aedf2d65a8b4",
   "metadata": {},
   "outputs": [
    {
     "data": {
      "text/plain": [
       "0"
      ]
     },
     "execution_count": 13,
     "metadata": {},
     "output_type": "execute_result"
    }
   ],
   "source": [
    "def get_product_of_numbers(lst):\n",
    "    flat_list = []\n",
    "    \n",
    "    def flatten(nested_list):\n",
    "        for item in nested_list:\n",
    "            if isinstance(item, (list, tuple, set)):  \n",
    "                flatten(item)\n",
    "            elif isinstance(item, dict): \n",
    "                for value in item.values():\n",
    "                    if isinstance(value, (list, tuple, set)):\n",
    "                        flatten(value)\n",
    "                    elif isinstance(value, (int, float)):\n",
    "                        flat_list.append(value)\n",
    "            elif isinstance(item, (int, float)):\n",
    "                flat_list.append(item)\n",
    "\n",
    "    flatten(lst)\n",
    "    \n",
    "    product = 1\n",
    "    for num in flat_list:\n",
    "        if isinstance(num, (int, float)):  # Ensure it is a number\n",
    "            product *= num\n",
    "            \n",
    "    return product\n",
    "\n",
    "\n",
    "list1 = [1, 2, 3, 4, [44, 55, 66, True], False, (34, 56, 78, 89, 34), {1, 2, 3, 3, 2, 1}, {1: 34, \"key2\": [55, 67, 78, 89], 4: (45, 22, 61, 34)}, [56, 'data science'], 'Machine Learning']\n",
    "\n",
    "get_product_of_numbers(list1)\n"
   ]
  },
  {
   "cell_type": "code",
   "execution_count": 14,
   "id": "8ebae395-6250-410c-8d24-f7215e497c7e",
   "metadata": {},
   "outputs": [
    {
     "name": "stdout",
     "output_type": "stream",
     "text": [
      "Encrypted Sentence: r$dzmg$gl$yvxlnv$z$wzgz$hxrvmgrhg.\n"
     ]
    }
   ],
   "source": [
    "#Q2\n",
    "def encrypt_message(message):\n",
    "    encrypted_message = \"\"\n",
    "    for char in message.lower():\n",
    "        if char.isalpha():  \n",
    "            encrypted_char = chr(219 - ord(char))\n",
    "        elif char.isspace(): \n",
    "            encrypted_char = '$'\n",
    "        else:  \n",
    "            encrypted_char = char\n",
    "        encrypted_message += encrypted_char\n",
    "    return encrypted_message\n",
    "\n",
    "input_sentence = \"I want to become a Data Scientist.\"\n",
    "\n",
    "encrypted_sentence = encrypt_message(input_sentence)\n",
    "\n",
    "print(\"Encrypted Sentence:\", encrypted_sentence)\n"
   ]
  }
 ],
 "metadata": {
  "kernelspec": {
   "display_name": "Python 3 (ipykernel)",
   "language": "python",
   "name": "python3"
  },
  "language_info": {
   "codemirror_mode": {
    "name": "ipython",
    "version": 3
   },
   "file_extension": ".py",
   "mimetype": "text/x-python",
   "name": "python",
   "nbconvert_exporter": "python",
   "pygments_lexer": "ipython3",
   "version": "3.12.7"
  }
 },
 "nbformat": 4,
 "nbformat_minor": 5
}
